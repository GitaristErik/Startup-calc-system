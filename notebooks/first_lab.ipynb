{
 "cells": [
  {
   "cell_type": "markdown",
   "source": [
    "### Методи багатокритеріального аналізу альтернатив"
   ],
   "metadata": {
    "collapsed": false
   }
  },
  {
   "cell_type": "code",
   "outputs": [],
   "source": [
    "%use lib-ext(0.11.0-398)\n",
    "%use kmath"
   ],
   "metadata": {
    "collapsed": false,
    "ExecuteTime": {
     "end_time": "2024-03-05T08:22:06.094639700Z",
     "start_time": "2024-03-05T08:22:00.817136300Z"
    }
   },
   "execution_count": 1
  },
  {
   "cell_type": "code",
   "outputs": [],
   "source": [
    "%use dataframe"
   ],
   "metadata": {
    "collapsed": false,
    "ExecuteTime": {
     "end_time": "2024-03-05T08:22:15.241839300Z",
     "start_time": "2024-03-05T08:22:06.108284800Z"
    }
   },
   "execution_count": 2
  },
  {
   "cell_type": "code",
   "execution_count": 3,
   "metadata": {
    "collapsed": true,
    "ExecuteTime": {
     "end_time": "2024-03-05T08:22:16.517860900Z",
     "start_time": "2024-03-05T08:22:15.255394600Z"
    }
   },
   "outputs": [
    {
     "data": {
      "text/html": "            <iframe onload=\"o_resize_iframe_out_1()\" style=\"width:100%;\" class=\"result_container\" id=\"iframe_out_1\" frameBorder=\"0\" srcdoc=\"        &lt;html theme='dark'&gt;\n        &lt;head&gt;\n            &lt;style type=&quot;text&sol;css&quot;&gt;\n                :root {\n    --background: #fff;\n    --background-odd: #f5f5f5;\n    --background-hover: #d9edfd;\n    --header-text-color: #474747;\n    --text-color: #848484;\n    --text-color-dark: #000;\n    --text-color-medium: #737373;\n    --text-color-pale: #b3b3b3;\n    --inner-border-color: #aaa;\n    --bold-border-color: #000;\n    --link-color: #296eaa;\n    --link-color-pale: #296eaa;\n    --link-hover: #1a466c;\n}\n\n:root[theme=&quot;dark&quot;], :root [data-jp-theme-light=&quot;false&quot;], .dataframe_dark{\n    --background: #303030;\n    --background-odd: #3c3c3c;\n    --background-hover: #464646;\n    --header-text-color: #dddddd;\n    --text-color: #b3b3b3;\n    --text-color-dark: #dddddd;\n    --text-color-medium: #b2b2b2;\n    --text-color-pale: #737373;\n    --inner-border-color: #707070;\n    --bold-border-color: #777777;\n    --link-color: #008dc0;\n    --link-color-pale: #97e1fb;\n    --link-hover: #00688e;\n}\n\np.dataframe_description {\n    color: var(--text-color-dark);\n}\n\ntable.dataframe {\n    font-family: &quot;Helvetica Neue&quot;, Helvetica, Arial, sans-serif;\n    font-size: 12px;\n    background-color: var(--background);\n    color: var(--text-color-dark);\n    border: none;\n    border-collapse: collapse;\n}\n\ntable.dataframe th, td {\n    padding: 6px;\n    border: 1px solid transparent;\n    text-align: left;\n}\n\ntable.dataframe th {\n    background-color: var(--background);\n    color: var(--header-text-color);\n}\n\ntable.dataframe td {\n    vertical-align: top;\n}\n\ntable.dataframe th.bottomBorder {\n    border-bottom-color: var(--bold-border-color);\n}\n\ntable.dataframe tbody &gt; tr:nth-child(odd) {\n    background: var(--background-odd);\n}\n\ntable.dataframe tbody &gt; tr:nth-child(even) {\n    background: var(--background);\n}\n\ntable.dataframe tbody &gt; tr:hover {\n    background: var(--background-hover);\n}\n\ntable.dataframe a {\n    cursor: pointer;\n    color: var(--link-color);\n    text-decoration: none;\n}\n\ntable.dataframe tr:hover &gt; td a {\n    color: var(--link-color-pale);\n}\n\ntable.dataframe a:hover {\n    color: var(--link-hover);\n    text-decoration: underline;\n}\n\ntable.dataframe img {\n    max-width: fit-content;\n}\n\ntable.dataframe th.complex {\n    background-color: var(--background);\n    border: 1px solid var(--background);\n}\n\ntable.dataframe .leftBorder {\n    border-left-color: var(--inner-border-color);\n}\n\ntable.dataframe .rightBorder {\n    border-right-color: var(--inner-border-color);\n}\n\ntable.dataframe .rightAlign {\n    text-align: right;\n}\n\ntable.dataframe .expanderSvg {\n    width: 8px;\n    height: 8px;\n    margin-right: 3px;\n}\n\ntable.dataframe .expander {\n    display: flex;\n    align-items: center;\n}\n\n&sol;* formatting *&sol;\n\ntable.dataframe .null {\n    color: var(--text-color-pale);\n}\n\ntable.dataframe .structural {\n    color: var(--text-color-medium);\n    font-weight: bold;\n}\n\ntable.dataframe .dataFrameCaption {\n    font-weight: bold;\n}\n\ntable.dataframe .numbers {\n    color: var(--text-color-dark);\n}\n\ntable.dataframe td:hover .formatted .structural, .null {\n    color: var(--text-color-dark);\n}\n\ntable.dataframe tr:hover .formatted .structural, .null {\n    color: var(--text-color-dark);\n}\n\n\n\n\n:root {\n    --scroll-bg: #f5f5f5;\n    --scroll-fg: #b3b3b3;\n}\n:root[theme=&quot;dark&quot;], :root [data-jp-theme-light=&quot;false&quot;]{\n    --scroll-bg: #3c3c3c;\n    --scroll-fg: #97e1fb;\n}\nbody {\n    scrollbar-color: var(--scroll-fg) var(--scroll-bg);\n}\nbody::-webkit-scrollbar {\n    width: 10px; &sol;* Mostly for vertical scrollbars *&sol;\n    height: 10px; &sol;* Mostly for horizontal scrollbars *&sol;\n}\nbody::-webkit-scrollbar-thumb {\n    background-color: var(--scroll-fg);\n}\nbody::-webkit-scrollbar-track {\n    background-color: var(--scroll-bg);\n}\n            &lt;&sol;style&gt;\n        &lt;&sol;head&gt;\n        &lt;body&gt;\n            \n&lt;table class=&quot;dataframe&quot; id=&quot;df_822083584&quot;&gt;&lt;&sol;table&gt;\n\n&lt;p class=&quot;dataframe_description&quot;&gt;DataFrame: rowsCount = 9, columnsCount = 2&lt;&sol;p&gt;\n\n        &lt;&sol;body&gt;\n        &lt;script&gt;\n            (function () {\n    window.DataFrame = window.DataFrame || new (function () {\n        this.addTable = function (df) {\n            let cols = df.cols;\n            for (let i = 0; i &lt; cols.length; i++) {\n                for (let c of cols[i].children) {\n                    cols[c].parent = i;\n                }\n            }\n            df.nrow = 0\n            for (let i = 0; i &lt; df.cols.length; i++) {\n                if (df.cols[i].values.length &gt; df.nrow) df.nrow = df.cols[i].values.length\n            }\n            if (df.id === df.rootId) {\n                df.expandedFrames = new Set()\n                df.childFrames = {}\n                const table = this.getTableElement(df.id)\n                table.df = df\n                for (let i = 0; i &lt; df.cols.length; i++) {\n                    let col = df.cols[i]\n                    if (col.parent === undefined &amp;&amp; col.children.length &gt; 0) col.expanded = true\n                }\n            } else {\n                const rootDf = this.getTableData(df.rootId)\n                rootDf.childFrames[df.id] = df\n            }\n        }\n\n        this.computeRenderData = function (df) {\n            let result = []\n            let pos = 0\n            for (let col = 0; col &lt; df.cols.length; col++) {\n                if (df.cols[col].parent === undefined)\n                    pos += this.computeRenderDataRec(df.cols, col, pos, 0, result, false, false)\n            }\n            for (let i = 0; i &lt; result.length; i++) {\n                let row = result[i]\n                for (let j = 0; j &lt; row.length; j++) {\n                    let cell = row[j]\n                    if (j === 0)\n                        cell.leftBd = false\n                    if (j &lt; row.length - 1) {\n                        let nextData = row[j + 1]\n                        if (nextData.leftBd) cell.rightBd = true\n                        else if (cell.rightBd) nextData.leftBd = true\n                    } else cell.rightBd = false\n                }\n            }\n            return result\n        }\n\n        this.computeRenderDataRec = function (cols, colId, pos, depth, result, leftBorder, rightBorder) {\n            if (result.length === depth) {\n                const array = [];\n                if (pos &gt; 0) {\n                    let j = 0\n                    for (let i = 0; j &lt; pos; i++) {\n                        let c = result[depth - 1][i]\n                        j += c.span\n                        let copy = Object.assign({empty: true}, c)\n                        array.push(copy)\n                    }\n                }\n                result.push(array)\n            }\n            const col = cols[colId];\n            let size = 0;\n            if (col.expanded) {\n                let childPos = pos\n                for (let i = 0; i &lt; col.children.length; i++) {\n                    let child = col.children[i]\n                    let childLeft = i === 0 &amp;&amp; (col.children.length &gt; 1 || leftBorder)\n                    let childRight = i === col.children.length - 1 &amp;&amp; (col.children.length &gt; 1 || rightBorder)\n                    let childSize = this.computeRenderDataRec(cols, child, childPos, depth + 1, result, childLeft, childRight)\n                    childPos += childSize\n                    size += childSize\n                }\n            } else {\n                for (let i = depth + 1; i &lt; result.length; i++)\n                    result[i].push({id: colId, span: 1, leftBd: leftBorder, rightBd: rightBorder, empty: true})\n                size = 1\n            }\n            let left = leftBorder\n            let right = rightBorder\n            if (size &gt; 1) {\n                left = true\n                right = true\n            }\n            result[depth].push({id: colId, span: size, leftBd: left, rightBd: right})\n            return size\n        }\n\n        this.getTableElement = function (id) {\n            return document.getElementById(&quot;df_&quot; + id)\n        }\n\n        this.getTableData = function (id) {\n            return this.getTableElement(id).df\n        }\n\n        this.createExpander = function (isExpanded) {\n            const svgNs = &quot;http:&sol;&sol;www.w3.org&sol;2000&sol;svg&quot;\n            let svg = document.createElementNS(svgNs, &quot;svg&quot;)\n            svg.classList.add(&quot;expanderSvg&quot;)\n            let path = document.createElementNS(svgNs, &quot;path&quot;)\n            if (isExpanded) {\n                svg.setAttribute(&quot;viewBox&quot;, &quot;0 -2 8 8&quot;)\n                path.setAttribute(&quot;d&quot;, &quot;M1 0 l-1 1 4 4 4 -4 -1 -1 -3 3Z&quot;)\n            } else {\n                svg.setAttribute(&quot;viewBox&quot;, &quot;-2 0 8 8&quot;)\n                path.setAttribute(&quot;d&quot;, &quot;M1 0 l-1 1 3 3 -3 3 1 1 4 -4Z&quot;)\n            }\n            path.setAttribute(&quot;fill&quot;, &quot;currentColor&quot;)\n            svg.appendChild(path)\n            return svg\n        }\n\n        this.renderTable = function (id) {\n\n            let table = this.getTableElement(id)\n\n            if (table === null) return\n\n            table.innerHTML = &quot;&quot;\n\n            let df = table.df\n            let rootDf = df.rootId === df.id ? df : this.getTableData(df.rootId)\n\n            &sol;&sol; header\n            let header = document.createElement(&quot;thead&quot;)\n            table.appendChild(header)\n\n            let renderData = this.computeRenderData(df)\n            for (let j = 0; j &lt; renderData.length; j++) {\n                let rowData = renderData[j]\n                let tr = document.createElement(&quot;tr&quot;);\n                let isLastRow = j === renderData.length - 1\n                header.appendChild(tr);\n                for (let i = 0; i &lt; rowData.length; i++) {\n                    let cell = rowData[i]\n                    let th = document.createElement(&quot;th&quot;);\n                    th.setAttribute(&quot;colspan&quot;, cell.span)\n                    let colId = cell.id\n                    let col = df.cols[colId];\n                    if (!cell.empty) {\n                        if (col.children.length === 0) {\n                            th.innerHTML = col.name\n                        } else {\n                            let link = document.createElement(&quot;a&quot;)\n                            link.className = &quot;expander&quot;\n                            let that = this\n                            link.onclick = function () {\n                                col.expanded = !col.expanded\n                                that.renderTable(id)\n                            }\n                            link.appendChild(this.createExpander(col.expanded))\n                            link.innerHTML += col.name\n                            th.appendChild(link)\n                        }\n                    }\n                    let classes = (cell.leftBd ? &quot; leftBorder&quot; : &quot;&quot;) + (cell.rightBd ? &quot; rightBorder&quot; : &quot;&quot;)\n                    if (col.rightAlign)\n                        classes += &quot; rightAlign&quot;\n                    if (isLastRow)\n                        classes += &quot; bottomBorder&quot;\n                    if (classes.length &gt; 0)\n                        th.setAttribute(&quot;class&quot;, classes)\n                    tr.appendChild(th)\n                }\n            }\n\n            &sol;&sol; body\n            let body = document.createElement(&quot;tbody&quot;)\n            table.appendChild(body)\n\n            let columns = renderData.pop()\n            for (let row = 0; row &lt; df.nrow; row++) {\n                let tr = document.createElement(&quot;tr&quot;);\n                body.appendChild(tr)\n                for (let i = 0; i &lt; columns.length; i++) {\n                    let cell = columns[i]\n                    let td = document.createElement(&quot;td&quot;);\n                    let colId = cell.id\n                    let col = df.cols[colId]\n                    let classes = (cell.leftBd ? &quot; leftBorder&quot; : &quot;&quot;) + (cell.rightBd ? &quot; rightBorder&quot; : &quot;&quot;)\n                    if (col.rightAlign)\n                        classes += &quot; rightAlign&quot;\n                    if (classes.length &gt; 0)\n                        td.setAttribute(&quot;class&quot;, classes)\n                    tr.appendChild(td)\n                    let value = col.values[row]\n                    if (value.frameId !== undefined) {\n                        let frameId = value.frameId\n                        let expanded = rootDf.expandedFrames.has(frameId)\n                        let link = document.createElement(&quot;a&quot;)\n                        link.className = &quot;expander&quot;\n                        let that = this\n                        link.onclick = function () {\n                            if (rootDf.expandedFrames.has(frameId))\n                                rootDf.expandedFrames.delete(frameId)\n                            else rootDf.expandedFrames.add(frameId)\n                            that.renderTable(id)\n                        }\n                        link.appendChild(this.createExpander(expanded))\n                        link.innerHTML += value.value\n                        if (expanded) {\n                            td.appendChild(link)\n                            td.appendChild(document.createElement(&quot;p&quot;))\n                            const childTable = document.createElement(&quot;table&quot;)\n                            childTable.className = &quot;dataframe&quot;\n                            childTable.id = &quot;df_&quot; + frameId\n                            let childDf = rootDf.childFrames[frameId]\n                            childTable.df = childDf\n                            td.appendChild(childTable)\n                            this.renderTable(frameId)\n                            if (childDf.nrow !== childDf.totalRows) {\n                                const footer = document.createElement(&quot;p&quot;)\n                                footer.innerText = `... showing only top ${childDf.nrow} of ${childDf.totalRows} rows`\n                                td.appendChild(footer)\n                            }\n                        } else {\n                            td.appendChild(link)\n                        }\n                    } else if (value.style !== undefined) {\n                        td.innerHTML = value.value\n                        td.setAttribute(&quot;style&quot;, value.style)\n                    } else td.innerHTML = value\n                    this.nodeScriptReplace(td)\n                }\n            }\n        }\n\n        this.nodeScriptReplace = function (node) {\n            if (this.nodeScriptIs(node) === true) {\n                node.parentNode.replaceChild(this.nodeScriptClone(node), node);\n            } else {\n                let i = -1, children = node.childNodes;\n                while (++i &lt; children.length) {\n                    this.nodeScriptReplace(children[i]);\n                }\n            }\n\n            return node;\n        }\n\n        this.nodeScriptClone = function (node) {\n            let script = document.createElement(&quot;script&quot;);\n            script.text = node.innerHTML;\n\n            let i = -1, attrs = node.attributes, attr;\n            while (++i &lt; attrs.length) {\n                script.setAttribute((attr = attrs[i]).name, attr.value);\n            }\n            return script;\n        }\n\n        this.nodeScriptIs = function (node) {\n            return node.tagName === 'SCRIPT';\n        }\n    })()\n\n    window.call_DataFrame = function (f) {\n        return f();\n    };\n\n    let funQueue = window[&quot;kotlinQueues&quot;] &amp;&amp; window[&quot;kotlinQueues&quot;][&quot;DataFrame&quot;];\n    if (funQueue) {\n        funQueue.forEach(function (f) {\n            f();\n        });\n        funQueue = [];\n    }\n})()\n\n&sol;*&lt;!--*&sol;\ncall_DataFrame(function() { DataFrame.addTable({ cols: [{ name: &quot;&lt;span title=&bsol;&quot;first: Any&bsol;&quot;&gt;first&lt;&sol;span&gt;&quot;, children: [], rightAlign: false, values: [&quot;K1&quot;,&quot;K2&quot;,&quot;K3&quot;,&quot;K4&quot;,&quot;K5&quot;,&quot;K6&quot;,&quot;K7&quot;,&quot;K8&quot;,&quot;K9&quot;] }, \n{ name: &quot;&lt;span title=&bsol;&quot;second: Any&bsol;&quot;&gt;second&lt;&sol;span&gt;&quot;, children: [], rightAlign: false, values: [&quot;&lt;span class=&bsol;&quot;formatted&bsol;&quot; title=&bsol;&quot;3000&bsol;n4000&bsol;n5000&bsol;n3500&bsol;&quot;&gt;&lt;span class=&bsol;&quot;structural&bsol;&quot;&gt;[&lt;&sol;span&gt;&lt;span class=&bsol;&quot;numbers&bsol;&quot;&gt;3000&lt;&sol;span&gt;&lt;span class=&bsol;&quot;structural&bsol;&quot;&gt;, &lt;&sol;span&gt;&lt;span class=&bsol;&quot;numbers&bsol;&quot;&gt;4000&lt;&sol;span&gt;&lt;span class=&bsol;&quot;structural&bsol;&quot;&gt;, &lt;&sol;span&gt;&lt;span class=&bsol;&quot;numbers&bsol;&quot;&gt;5000&lt;&sol;span&gt;&lt;span class=&bsol;&quot;structural&bsol;&quot;&gt;, &lt;&sol;span&gt;&lt;span class=&bsol;&quot;numbers&bsol;&quot;&gt;3500&lt;&sol;span&gt;&lt;span class=&bsol;&quot;structural&bsol;&quot;&gt;]&lt;&sol;span&gt;&lt;&sol;span&gt;&quot;,&quot;&lt;span class=&bsol;&quot;formatted&bsol;&quot; title=&bsol;&quot;4&bsol;n5&bsol;n5&bsol;n3&bsol;&quot;&gt;&lt;span class=&bsol;&quot;structural&bsol;&quot;&gt;[&lt;&sol;span&gt;&lt;span class=&bsol;&quot;numbers&bsol;&quot;&gt;4&lt;&sol;span&gt;&lt;span class=&bsol;&quot;structural&bsol;&quot;&gt;, &lt;&sol;span&gt;&lt;span class=&bsol;&quot;numbers&bsol;&quot;&gt;5&lt;&sol;span&gt;&lt;span class=&bsol;&quot;structural&bsol;&quot;&gt;, &lt;&sol;span&gt;&lt;span class=&bsol;&quot;numbers&bsol;&quot;&gt;5&lt;&sol;span&gt;&lt;span class=&bsol;&quot;structural&bsol;&quot;&gt;, &lt;&sol;span&gt;&lt;span class=&bsol;&quot;numbers&bsol;&quot;&gt;3&lt;&sol;span&gt;&lt;span class=&bsol;&quot;structural&bsol;&quot;&gt;]&lt;&sol;span&gt;&lt;&sol;span&gt;&quot;,&quot;&lt;span class=&bsol;&quot;formatted&bsol;&quot; title=&bsol;&quot;HIGH&bsol;nMEDIUM&bsol;nHIGH&bsol;nLOW&bsol;&quot;&gt;&lt;span class=&bsol;&quot;structural&bsol;&quot;&gt;[&lt;&sol;span&gt;HIGH&lt;span class=&bsol;&quot;structural&bsol;&quot;&gt;, &lt;&sol;span&gt;MEDIUM&lt;span class=&bsol;&quot;structural&bsol;&quot;&gt;, &lt;&sol;span&gt;HIGH&lt;span class=&bsol;&quot;structural&bsol;&quot;&gt;, &lt;&sol;span&gt;LOW&lt;span class=&bsol;&quot;structural&bsol;&quot;&gt;]&lt;&sol;span&gt;&lt;&sol;span&gt;&quot;,&quot;&lt;span class=&bsol;&quot;formatted&bsol;&quot; title=&bsol;&quot;Available&bsol;nAvailable&bsol;nAvailable&bsol;nNotAvailable&bsol;&quot;&gt;&lt;span class=&bsol;&quot;structural&bsol;&quot;&gt;[&lt;&sol;span&gt;Available&lt;span class=&bsol;&quot;structural&bsol;&quot;&gt;, &lt;&sol;span&gt;Available&lt;span class=&bsol;&quot;structural&bsol;&quot;&gt;, &lt;&sol;span&gt;Available&lt;span class=&bsol;&quot;structural&bsol;&quot;&gt;, &lt;&sol;span&gt;No&lt;span class=&bsol;&quot;structural&bsol;&quot;&gt;...&lt;&sol;span&gt;&lt;span class=&bsol;&quot;structural&bsol;&quot;&gt;]&lt;&sol;span&gt;&lt;&sol;span&gt;&quot;,&quot;&lt;span class=&bsol;&quot;formatted&bsol;&quot; title=&bsol;&quot;Yes&bsol;nNo&bsol;nNo&bsol;nYes&bsol;&quot;&gt;&lt;span class=&bsol;&quot;structural&bsol;&quot;&gt;[&lt;&sol;span&gt;Yes&lt;span class=&bsol;&quot;structural&bsol;&quot;&gt;, &lt;&sol;span&gt;No&lt;span class=&bsol;&quot;structural&bsol;&quot;&gt;, &lt;&sol;span&gt;No&lt;span class=&bsol;&quot;structural&bsol;&quot;&gt;, &lt;&sol;span&gt;Yes&lt;span class=&bsol;&quot;structural&bsol;&quot;&gt;]&lt;&sol;span&gt;&lt;&sol;span&gt;&quot;,&quot;&lt;span class=&bsol;&quot;formatted&bsol;&quot; title=&bsol;&quot;Yes&bsol;nNo&bsol;nYes&bsol;nYes&bsol;&quot;&gt;&lt;span class=&bsol;&quot;structural&bsol;&quot;&gt;[&lt;&sol;span&gt;Yes&lt;span class=&bsol;&quot;structural&bsol;&quot;&gt;, &lt;&sol;span&gt;No&lt;span class=&bsol;&quot;structural&bsol;&quot;&gt;, &lt;&sol;span&gt;Yes&lt;span class=&bsol;&quot;structural&bsol;&quot;&gt;, &lt;&sol;span&gt;Yes&lt;span class=&bsol;&quot;structural&bsol;&quot;&gt;]&lt;&sol;span&gt;&lt;&sol;span&gt;&quot;,&quot;&lt;span class=&bsol;&quot;formatted&bsol;&quot; title=&bsol;&quot;HIGH&bsol;nMEDIUM&bsol;nHIGH&bsol;nMEDIUM&bsol;&quot;&gt;&lt;span class=&bsol;&quot;structural&bsol;&quot;&gt;[&lt;&sol;span&gt;HIGH&lt;span class=&bsol;&quot;structural&bsol;&quot;&gt;, &lt;&sol;span&gt;MEDIUM&lt;span class=&bsol;&quot;structural&bsol;&quot;&gt;, &lt;&sol;span&gt;HIGH&lt;span class=&bsol;&quot;structural&bsol;&quot;&gt;, &lt;&sol;span&gt;MEDIUM&lt;span class=&bsol;&quot;structural&bsol;&quot;&gt;]&lt;&sol;span&gt;&lt;&sol;span&gt;&quot;,&quot;&lt;span class=&bsol;&quot;formatted&bsol;&quot; title=&bsol;&quot;MEDIUM&bsol;nLOW&bsol;nLOW&bsol;nHIGH&bsol;&quot;&gt;&lt;span class=&bsol;&quot;structural&bsol;&quot;&gt;[&lt;&sol;span&gt;MEDIUM&lt;span class=&bsol;&quot;structural&bsol;&quot;&gt;, &lt;&sol;span&gt;LOW&lt;span class=&bsol;&quot;structural&bsol;&quot;&gt;, &lt;&sol;span&gt;LOW&lt;span class=&bsol;&quot;structural&bsol;&quot;&gt;, &lt;&sol;span&gt;HIGH&lt;span class=&bsol;&quot;structural&bsol;&quot;&gt;]&lt;&sol;span&gt;&lt;&sol;span&gt;&quot;,&quot;&lt;span class=&bsol;&quot;formatted&bsol;&quot; title=&bsol;&quot;Yes&bsol;nYes&bsol;nYes&bsol;nNo&bsol;&quot;&gt;&lt;span class=&bsol;&quot;structural&bsol;&quot;&gt;[&lt;&sol;span&gt;Yes&lt;span class=&bsol;&quot;structural&bsol;&quot;&gt;, &lt;&sol;span&gt;Yes&lt;span class=&bsol;&quot;structural&bsol;&quot;&gt;, &lt;&sol;span&gt;Yes&lt;span class=&bsol;&quot;structural&bsol;&quot;&gt;, &lt;&sol;span&gt;No&lt;span class=&bsol;&quot;structural&bsol;&quot;&gt;]&lt;&sol;span&gt;&lt;&sol;span&gt;&quot;] }, \n], id: 822083584, rootId: 822083584, totalRows: 9 } ) });\n&sol;*--&gt;*&sol;\n\ncall_DataFrame(function() { DataFrame.renderTable(822083584) });\n\n\n\n        &lt;&sol;script&gt;\n        &lt;&sol;html&gt;\"></iframe>\n            <script>\n                function o_resize_iframe_out_1() {\n                    let elem = document.getElementById(\"iframe_out_1\");\n                    resize_iframe_out_1(elem);\n                    setInterval(resize_iframe_out_1, 5000, elem);\n                }\n                function resize_iframe_out_1(el) {\n                    let h = el.contentWindow.document.body.scrollHeight;\n                    el.height = h === 0 ? 0 : h + 41;\n                }\n            </script><html theme='dark'>\n<head>\n    <style type=\"text/css\">\n        \n    </style>\n</head>\n<body>\n    <table class=\"dataframe\" id=\"static_df_822083585\"><thead><tr><th>first</th><th>second</th></tr></thead><tbody><tr><td>K1</td><td>[3000, 4000, 5000, 3500]</td></tr><tr><td>K2</td><td>[4, 5, 5, 3]</td></tr><tr><td>K3</td><td>[HIGH, MEDIUM, HIGH, LOW]</td></tr><tr><td>K4</td><td>[Available, Available, Available, Not<span class=\"structural\">...</span></td></tr><tr><td>K5</td><td>[Yes, No, No, Yes]</td></tr><tr><td>K6</td><td>[Yes, No, Yes, Yes]</td></tr><tr><td>K7</td><td>[HIGH, MEDIUM, HIGH, MEDIUM]</td></tr><tr><td>K8</td><td>[MEDIUM, LOW, LOW, HIGH]</td></tr><tr><td>K9</td><td>[Yes, Yes, Yes, No]</td></tr></tbody></table>\n</body>\n<script>\n    document.getElementById(\"static_df_822083585\").style.display = \"none\";\n</script>\n</html>",
      "application/kotlindataframe+json": "{\"nrow\":9,\"ncol\":2,\"columns\":[\"first\",\"second\"],\"kotlin_dataframe\":[{\"first\":\"K1\",\"second\":\"[3000, 4000, 5000, 3500]\"},{\"first\":\"K2\",\"second\":\"[4, 5, 5, 3]\"},{\"first\":\"K3\",\"second\":\"[HIGH, MEDIUM, HIGH, LOW]\"},{\"first\":\"K4\",\"second\":\"[Available, Available, Available, NotAvailable]\"},{\"first\":\"K5\",\"second\":\"[Yes, No, No, Yes]\"},{\"first\":\"K6\",\"second\":\"[Yes, No, Yes, Yes]\"},{\"first\":\"K7\",\"second\":\"[HIGH, MEDIUM, HIGH, MEDIUM]\"},{\"first\":\"K8\",\"second\":\"[MEDIUM, LOW, LOW, HIGH]\"},{\"first\":\"K9\",\"second\":\"[Yes, Yes, Yes, No]\"}]}"
     },
     "execution_count": 3,
     "metadata": {},
     "output_type": "execute_result"
    }
   ],
   "source": [
    "enum class Criteria(name: String) {\n",
    "    HIGH(\"високі\"),\n",
    "    MEDIUM(\"середні\"),\n",
    "    LOW(\"низькі\")\n",
    "}\n",
    "\n",
    "enum class AvailableStatus(name: String) {\n",
    "    Available(\"так\"),\n",
    "    NotAvailable(\"ні\")\n",
    "}\n",
    "\n",
    "enum class YesOrNo(name: String) {\n",
    "    Yes(\"так\"),\n",
    "    No(\"ні\")\n",
    "}\n",
    "\n",
    "\n",
    "/*\n",
    "Нехай нам задано множину альтернатив x1,x2,x3,x4, \n",
    "із своїми критеріями k1,k2,k3.... k9, наступною таблицею\n",
    "\n",
    "3000 4000 5000 35002K\n",
    "4 5 5 33K\n",
    "високі середні високі малі4K\n",
    "наявний наявний наявний відсутній5K\n",
    "так ні ні так6K\n",
    "так ні так так7K\n",
    "високий середній високий середній8K\n",
    "середній простий простий складний9K\n",
    "так так так ні\n",
    " */\n",
    "\n",
    "val K = listOf(\n",
    "    listOf(3000, 4000, 5000, 3500),\n",
    "    listOf(4, 5, 5, 3),\n",
    "    listOf(Criteria.HIGH, Criteria.MEDIUM, Criteria.HIGH, Criteria.LOW),\n",
    "    listOf(\n",
    "        AvailableStatus.Available,\n",
    "        AvailableStatus.Available,\n",
    "        AvailableStatus.Available,\n",
    "        AvailableStatus.NotAvailable\n",
    "    ),\n",
    "    listOf(YesOrNo.Yes, YesOrNo.No, YesOrNo.No, YesOrNo.Yes),\n",
    "    listOf(YesOrNo.Yes, YesOrNo.No, YesOrNo.Yes, YesOrNo.Yes),\n",
    "    listOf(Criteria.HIGH, Criteria.MEDIUM, Criteria.HIGH, Criteria.MEDIUM),\n",
    "    listOf(Criteria.MEDIUM, Criteria.LOW, Criteria.LOW, Criteria.HIGH),\n",
    "    listOf(YesOrNo.Yes, YesOrNo.Yes, YesOrNo.Yes, YesOrNo.No)\n",
    ")\n",
    "\n",
    "val mapK = K.mapIndexed { index, list -> \"K${index + 1}\" to list }\n",
    "mapK.toDataFrame()\n"
   ]
  },
  {
   "cell_type": "markdown",
   "source": [
    "\n",
    "## Вагомість критеріїв експерт оцінив у числах із інтервалу [0,10] відповідно:\n",
    "## {8, 10, 9, 8, 5, 6, 9, 5, 3}"
   ],
   "metadata": {
    "collapsed": false
   }
  },
  {
   "cell_type": "code",
   "outputs": [],
   "source": [
    "val weights = listOf(8, 10, 9, 8, 5, 6, 9, 5, 3)"
   ],
   "metadata": {
    "collapsed": false,
    "ExecuteTime": {
     "end_time": "2024-03-05T08:22:16.584991200Z",
     "start_time": "2024-03-05T08:22:16.523371Z"
    }
   },
   "execution_count": 4
  },
  {
   "cell_type": "markdown",
   "source": [
    "### На другому етапі обчислимо нормовані вагові коефіцієнти формулою (1.1) і запишемо їх як множину: {0,13; 0,16; 0,14; 0,13; 0,08; 0,1; 0,14; 0,08; 0,05}."
   ],
   "metadata": {
    "collapsed": false
   }
  },
  {
   "cell_type": "code",
   "outputs": [
    {
     "data": {
      "text/plain": "[0.23, 0.29, 0.26, 0.23]"
     },
     "execution_count": 46,
     "metadata": {},
     "output_type": "execute_result"
    }
   ],
   "source": [
    "fun List<Double>.normalize(): List<Double> = this.sum().let { weights_sum ->\n",
    "    this.map { it.toDouble() / weights_sum }\n",
    "}\n",
    "\n",
    "weights.map { it.toDouble() }.normalize()\n",
    "    .map { \"%.2f\".format(it) }"
   ],
   "metadata": {
    "collapsed": false,
    "ExecuteTime": {
     "end_time": "2024-03-05T09:27:22.874765700Z",
     "start_time": "2024-03-05T09:27:22.747829300Z"
    }
   },
   "execution_count": 46
  },
  {
   "cell_type": "code",
   "outputs": [
    {
     "data": {
      "text/html": "<img src=\"convolutions.png\" width=\"900\"/>"
     },
     "metadata": {},
     "output_type": "display_data"
    }
   ],
   "source": [
    "DISPLAY(Image(\"convolutions.png\", embed = false).withWidth(900))"
   ],
   "metadata": {
    "collapsed": false,
    "ExecuteTime": {
     "end_time": "2024-03-05T08:22:17.040621800Z",
     "start_time": "2024-03-05T08:22:16.916740600Z"
    }
   },
   "execution_count": 6
  },
  {
   "cell_type": "code",
   "outputs": [],
   "source": [
    "fun interface CalculateConvolution {\n",
    "    operator fun invoke(\n",
    "        normalized_o: List<Double>\n",
    "    ): Double\n",
    "}\n",
    "\n",
    "sealed class Convolution(private val weights_normalized: List<Double>) : CalculateConvolution {\n",
    "\n",
    "    protected abstract fun calculate(normalized_o: List<Double>): Double\n",
    "    override fun invoke(normalized_o: List<Double>): Double = if (normalized_o.size != weights_normalized.size) {\n",
    "        throw IllegalArgumentException(\n",
    "            \"Кількість вагових коефіцієнтів не співпадає з кількістю нормованих ваг\"\n",
    "        )\n",
    "    } else {\n",
    "        calculate(normalized_o)\n",
    "    }\n",
    "\n",
    "\n",
    "    class PessimisticConvolution(\n",
    "        val weights_normalized: List<Double>\n",
    "    ) : Convolution(weights_normalized) {\n",
    "        override fun calculate(normalized_o: List<Double>) =\n",
    "            1.0 / weights_normalized.reduceIndexed() { index, acc, item ->\n",
    "                acc + item / normalized_o[index]\n",
    "            }\n",
    "    }\n",
    "\n",
    "    class CautiousConvolution(\n",
    "        val weights_normalized: List<Double>\n",
    "    ) : Convolution(weights_normalized) {\n",
    "        override fun calculate(normalized_o: List<Double>) =\n",
    "            weights_normalized.foldIndexed(1.0) { index, acc, item ->\n",
    "                acc * normalized_o[index].pow(item)\n",
    "            }\n",
    "    }\n",
    "\n",
    "    class AverageConvolution(\n",
    "        val weights_normalized: List<Double>\n",
    "    ) : Convolution(weights_normalized) {\n",
    "        override fun calculate(normalized_o: List<Double>) =\n",
    "            weights_normalized.foldIndexed(0.0) { index, acc, item ->\n",
    "                acc + item * normalized_o[index]\n",
    "            }\n",
    "    }\n",
    "\n",
    "    class OptimisticConvolution(\n",
    "        val weights_normalized: List<Double>\n",
    "    ) : Convolution(weights_normalized) {\n",
    "        override fun calculate(normalized_o: List<Double>) = sqrt(\n",
    "            weights_normalized.reduceIndexed() { index, acc, item ->\n",
    "                acc + item * normalized_o[index].pow(2)\n",
    "            })\n",
    "    }\n",
    "\n",
    "}"
   ],
   "metadata": {
    "collapsed": false,
    "ExecuteTime": {
     "end_time": "2024-03-05T08:29:47.332710400Z",
     "start_time": "2024-03-05T08:29:47.049412Z"
    }
   },
   "execution_count": 23
  },
  {
   "cell_type": "code",
   "outputs": [],
   "source": [
    "fun calculateCriterias(\n",
    "    convolution: Convolution,\n",
    "    normalized_o: List<List<Double>>\n",
    "): List<Double> = normalized_o.transpose().map { convolution(it) }\n",
    "\n",
    "fun <T> List<List<T>>.transpose(): List<List<T>> = List(this[0].size) { i -> this.map { it[i] } }\n",
    "\n",
    "/**\n",
    " * @return pair with value to index\n",
    " */\n",
    "fun getBestAlternative(calculatedCriterias: List<Double>) =\n",
    "    calculatedCriterias.max().let { it to calculatedCriterias.indexOf(it) }"
   ],
   "metadata": {
    "collapsed": false,
    "ExecuteTime": {
     "end_time": "2024-03-05T09:15:03.789614200Z",
     "start_time": "2024-03-05T09:15:03.675975200Z"
    }
   },
   "execution_count": 41
  },
  {
   "cell_type": "markdown",
   "source": [
    "# Частина 2. Прийняття рішень на основі автоматизованого методу нормування вхідних даних"
   ],
   "metadata": {
    "collapsed": false
   }
  },
  {
   "cell_type": "markdown",
   "source": [
    "### Точку «задоволення вимог ОПР» експерт задав наступну: T={20; 20; 15; 20}. \n",
    "\n",
    "### Вагомість критеріїв експерт оцінив у числах із інтервалу [0,10] відповідно: {8, 10, 9, 8}."
   ],
   "metadata": {
    "collapsed": false
   }
  },
  {
   "cell_type": "code",
   "outputs": [
    {
     "data": {
      "text/plain": "[0.23, 0.29, 0.26, 0.23]"
     },
     "execution_count": 20,
     "metadata": {},
     "output_type": "execute_result"
    }
   ],
   "source": [
    "val T = listOf(20.0, 20.0, 15.0, 20.0)\n",
    "val weights = listOf(8.0, 10.0, 9.0, 8.0)\n",
    "val normalized_weights = weights.normalizeAsWeights()\n",
    "normalized_weights.map { \"%.2f\".format(it) }"
   ],
   "metadata": {
    "collapsed": false,
    "ExecuteTime": {
     "end_time": "2024-03-05T08:26:06.929165200Z",
     "start_time": "2024-03-05T08:26:06.817249600Z"
    }
   },
   "execution_count": 20
  },
  {
   "cell_type": "code",
   "outputs": [
    {
     "data": {
      "text/html": "<img src=\"formula_2_1.png\" width=\"900\"/>"
     },
     "metadata": {},
     "output_type": "display_data"
    }
   ],
   "source": [
    "DISPLAY(Image(\"formula_2_1.png\", embed = false).withWidth(900))"
   ],
   "metadata": {
    "collapsed": false,
    "ExecuteTime": {
     "end_time": "2024-03-05T08:22:17.983009Z",
     "start_time": "2024-03-05T08:22:17.928772300Z"
    }
   },
   "execution_count": 10
  },
  {
   "cell_type": "code",
   "outputs": [],
   "source": [
    "fun calculateMatrixZ(t: List<Double>, normalized_o: List<List<Double>>): List<List<Double>> {\n",
    "    return t.mapIndexed { i, t_i ->\n",
    "        normalized_o[i].map { o_i_j ->\n",
    "            val minJ_Oij = normalized_o[i].min()\n",
    "            val maxJ_Oij = normalized_o[i].max()\n",
    "            1.0 - abs(t_i - o_i_j) / max(t_i - minJ_Oij, maxJ_Oij - t_i)\n",
    "        }\n",
    "    }\n",
    "}"
   ],
   "metadata": {
    "collapsed": false,
    "ExecuteTime": {
     "end_time": "2024-03-05T08:22:18.258984600Z",
     "start_time": "2024-03-05T08:22:17.985016500Z"
    }
   },
   "execution_count": 11
  },
  {
   "cell_type": "code",
   "outputs": [
    {
     "data": {
      "text/plain": "0.00 1.00 1.00 1.00\n0.00 0.50 0.50 1.00\n1.00 0.00 0.67 1.00\n0.67 0.67 0.00 0.00\n"
     },
     "execution_count": 21,
     "metadata": {},
     "output_type": "execute_result"
    }
   ],
   "source": [
    "/*\n",
    "\n",
    "Нехай нам задано множину альтернатив − 𝑥1, 𝑥2, 𝑥3, 𝑥4, та критеріїв\n",
    "𝑘1, 𝑘2, 𝑘3, 𝑘4 за наступною таблицею:\n",
    "𝑥1 𝑥2 𝑥3 𝑥4\n",
    "𝐾1 10 20 20 20\n",
    "𝐾2 0 10 10 20\n",
    "𝐾3 15 0 20 15\n",
    "𝐾4 25 15 5 5\n",
    " */\n",
    "\n",
    "val testMatrix = listOf(\n",
    "    listOf(10.0, 20.0, 20.0, 20.0),\n",
    "    listOf(0.0, 10.0, 10.0, 20.0),\n",
    "    listOf(15.0, 0.0, 20.0, 15.0),\n",
    "    listOf(25.0, 15.0, 5.0, 5.0)\n",
    ")\n",
    "\n",
    "val normalizedO = calculateMatrixZ(T, testMatrix)\n",
    "\n",
    "normalizedO.joinToString(\"\") {\n",
    "    it.map { it2 -> \"%.2f\".format(it2) }.joinToString(\" \") + \"\\n\"\n",
    "}"
   ],
   "metadata": {
    "collapsed": false,
    "ExecuteTime": {
     "end_time": "2024-03-05T08:26:19.399639600Z",
     "start_time": "2024-03-05T08:26:19.222667300Z"
    }
   },
   "execution_count": 21
  },
  {
   "cell_type": "markdown",
   "source": [
    "### 3 Вибір найкращої альтернативи здійснимо за середньою згорткою, формула (1.5):"
   ],
   "metadata": {
    "collapsed": false
   }
  },
  {
   "cell_type": "code",
   "outputs": [
    {
     "data": {
      "text/plain": "[0.4095238095238095, 0.5238095238095238, 0.5428571428571429, 0.7714285714285714]"
     },
     "execution_count": 42,
     "metadata": {},
     "output_type": "execute_result"
    }
   ],
   "source": [
    "val averageConvolution = Convolution.AverageConvolution(normalized_weights)\n",
    "\n",
    "val calculateCriterias = calculateCriterias(averageConvolution, normalizedO)\n",
    "calculateCriterias"
   ],
   "metadata": {
    "collapsed": false,
    "ExecuteTime": {
     "end_time": "2024-03-05T09:15:08.197720100Z",
     "start_time": "2024-03-05T09:15:08.138556700Z"
    }
   },
   "execution_count": 42
  },
  {
   "cell_type": "markdown",
   "source": [
    "### Найкраща альтернатива - x4\n"
   ],
   "metadata": {
    "collapsed": false
   }
  },
  {
   "cell_type": "code",
   "outputs": [
    {
     "data": {
      "text/plain": "(0.7714285714285714, 3)"
     },
     "execution_count": 43,
     "metadata": {},
     "output_type": "execute_result"
    }
   ],
   "source": [
    "getBestAlternative(calculateCriterias)"
   ],
   "metadata": {
    "collapsed": false,
    "ExecuteTime": {
     "end_time": "2024-03-05T09:15:10.762663400Z",
     "start_time": "2024-03-05T09:15:10.730851600Z"
    }
   },
   "execution_count": 43
  }
 ],
 "metadata": {
  "kernelspec": {
   "display_name": "Kotlin",
   "language": "kotlin",
   "name": "kotlin"
  },
  "language_info": {
   "name": "kotlin",
   "version": "1.9.0",
   "mimetype": "text/x-kotlin",
   "file_extension": ".kt",
   "pygments_lexer": "kotlin",
   "codemirror_mode": "text/x-kotlin",
   "nbconvert_exporter": ""
  }
 },
 "nbformat": 4,
 "nbformat_minor": 0
}
